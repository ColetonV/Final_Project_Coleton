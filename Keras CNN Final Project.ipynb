{
 "cells": [
  {
   "cell_type": "markdown",
   "id": "14a6d2a7",
   "metadata": {},
   "source": [
    "## MLP Final Project\n",
    "\n",
    "Coleton Van Valkenburgh"
   ]
  },
  {
   "cell_type": "code",
   "execution_count": null,
   "id": "e7c9d22a",
   "metadata": {},
   "outputs": [],
   "source": [
    "import numpy as np  \n",
    "import matplotlib.pyplot as plt\n",
    "from sklearn.model_selection import train_test_split\n",
    "import tensorflow as tf\n",
    "from tensorflow import keras\n",
    "from sklearn.metrics import classification_report\n",
    "%matplotlib inline\n",
    "plt.style.use('bmh')"
   ]
  },
  {
   "cell_type": "code",
   "execution_count": null,
   "id": "68f65b0e",
   "metadata": {},
   "outputs": [],
   "source": [
    "tf.config.list_physical_devices('GPU')"
   ]
  },
  {
   "cell_type": "code",
   "execution_count": null,
   "id": "4e6216af",
   "metadata": {},
   "outputs": [],
   "source": [
    "#VRAM_ALLOC = # in MB, up to 80_000 if you are using the A100 GPU\n",
    "\n",
    "#if tf.config.list_physical_devices('GPU'):\n",
    "    \n",
    "#    for GPU in tf.config.list_physical_devices('GPU'):\n",
    "        \n",
    "#        tf.config.experimental.set_virtual_device_configuration(GPU,[tf.config.experimental.VirtualDeviceConfiguration(memory_limit=VRAM_ALLOC)])"
   ]
  },
  {
   "cell_type": "code",
   "execution_count": null,
   "id": "f2d9487c",
   "metadata": {},
   "outputs": [],
   "source": [
    "# Load Training Data\n",
    "X = np.load('data_train_corrected_final.npy')\n",
    "t = np.load('labels_train_corrected_final.npy')\n",
    "X.shape,t.shape"
   ]
  },
  {
   "cell_type": "code",
   "execution_count": null,
   "id": "f67903fb",
   "metadata": {},
   "outputs": [],
   "source": [
    "labels_names = ['Stop','Yield','Red Light','Green Light','Roundabout','Right Turn Only',\n",
    "                'Do Not Enter','Crosswalk','Handicap Parking','No Parking']"
   ]
  },
  {
   "cell_type": "code",
   "execution_count": null,
   "id": "fe3680d3",
   "metadata": {},
   "outputs": [],
   "source": [
    "#Randomly partition the data into training (10%) and test sets (90%)\n",
    "X_training, X_test, t_training, t_test = train_test_split(X.T, t, shuffle=True, test_size=0.9)\n",
    "\n",
    "X_train, X_val, t_train, t_val = train_test_split(X_training, t_training, shuffle=True, test_size=0.1)\n",
    "\n",
    "X_train.shape, X_val.shape, X_test.shape, t_train.shape, t_val.shape, t_test.shape"
   ]
  },
  {
   "cell_type": "code",
   "execution_count": null,
   "id": "d691006f",
   "metadata": {},
   "outputs": [],
   "source": [
    "type(X_test)"
   ]
  },
  {
   "cell_type": "code",
   "execution_count": null,
   "id": "ace90ad5",
   "metadata": {},
   "outputs": [],
   "source": [
    "# Converts the image array back into the size (N, H, W, D)\n",
    "X_train = tf.constant(X_train.reshape((X_train.shape[0],300,300,3))) #Returns the images to their origial RGB configurations\n",
    "\n",
    "X_val = tf.constant(X_val.reshape((X_val.shape[0],300,300,3))) #Returns the images to their origial RGB configurations\n",
    "\n",
    "X_test = tf.constant(X_test.reshape((X_test.shape[0],300,300,3))) #Returns the images to their origial RGB configurations\n",
    "\n",
    "X_train.shape, X_val.shape, X_test.shape"
   ]
  },
  {
   "cell_type": "code",
   "execution_count": null,
   "id": "c9855230",
   "metadata": {},
   "outputs": [],
   "source": [
    "# Hyperparameters\n",
    "lr = 0.01\n",
    "num_of_epochs = 5 #Number of times will loop through the data\n",
    "batch_size = 64 #Determines how the dataset is divided\n",
    "optim = \"Adam\""
   ]
  },
  {
   "cell_type": "code",
   "execution_count": null,
   "id": "fec3526a",
   "metadata": {},
   "outputs": [],
   "source": [
    "# CNN Model\n",
    "\n",
    "model = keras.models.Sequential([\n",
    "    keras.layers.Conv2D(32, 7, activation='relu', padding='same', input_shape=[300,300,3]),\n",
    "    keras.layers.MaxPool2D(2),\n",
    "    keras.layers.Conv2D(64, 3, activation='relu', padding='same'),\n",
    "    keras.layers.Conv2D(64, 3, activation='relu', padding='same'),\n",
    "    keras.layers.MaxPool2D(2),\n",
    "    keras.layers.Flatten(),\n",
    "    keras.layers.Dense(50, activation='relu'),\n",
    "    keras.layers.Dense(10, activation='softmax')\n",
    "])"
   ]
  },
  {
   "cell_type": "code",
   "execution_count": null,
   "id": "eee3ffb0",
   "metadata": {},
   "outputs": [],
   "source": [
    "model.summary()"
   ]
  },
  {
   "cell_type": "code",
   "execution_count": null,
   "id": "e8b5f6f6",
   "metadata": {},
   "outputs": [],
   "source": [
    "model.compile(loss='sparse_categorical_crossentropy',\n",
    "             optimizer=keras.optimizers.Adam(learning_rate=lr),\n",
    "             metrics=['accuracy'])"
   ]
  },
  {
   "cell_type": "code",
   "execution_count": null,
   "id": "aa23ba87",
   "metadata": {},
   "outputs": [],
   "source": [
    "model.fit(X_train, t_train, epochs=num_of_epochs, batch_size=batch_size,\n",
    "         validation_data=(X_val, t_val),\n",
    "         callbacks=[keras.callbacks.EarlyStopping(patience=10),\n",
    "                   keras.callbacks.ModelCheckpoint('CNN_trial_1', save_best_only=True)])"
   ]
  },
  {
   "cell_type": "code",
   "execution_count": null,
   "id": "ed6e27f7",
   "metadata": {},
   "outputs": [],
   "source": [
    "#model = keras.models.load_model('CNN_trial_1')"
   ]
  },
  {
   "cell_type": "code",
   "execution_count": null,
   "id": "caee4fdf",
   "metadata": {},
   "outputs": [],
   "source": [
    "y_train = np.argmax(model.predict(X_train), axis=1)\n",
    "y_test = np.argmax(model.predict(X_test), axis=1)"
   ]
  },
  {
   "cell_type": "code",
   "execution_count": null,
   "id": "f08640c2",
   "metadata": {},
   "outputs": [],
   "source": [
    "print(classification_report(t_train, y_train, target_names=labels_names))\n",
    "\n",
    "print(classification_report(t_test, y_test, target_names=labels_names))"
   ]
  },
  {
   "cell_type": "code",
   "execution_count": null,
   "id": "2f4d1e6d",
   "metadata": {},
   "outputs": [],
   "source": []
  },
  {
   "cell_type": "code",
   "execution_count": null,
   "id": "e630a78b",
   "metadata": {},
   "outputs": [],
   "source": []
  },
  {
   "cell_type": "code",
   "execution_count": null,
   "id": "0397fad2",
   "metadata": {},
   "outputs": [],
   "source": []
  },
  {
   "cell_type": "code",
   "execution_count": null,
   "id": "197a7278",
   "metadata": {},
   "outputs": [],
   "source": []
  }
 ],
 "metadata": {
  "kernelspec": {
   "display_name": "Python 3 (ipykernel)",
   "language": "python",
   "name": "python3"
  },
  "language_info": {
   "codemirror_mode": {
    "name": "ipython",
    "version": 3
   },
   "file_extension": ".py",
   "mimetype": "text/x-python",
   "name": "python",
   "nbconvert_exporter": "python",
   "pygments_lexer": "ipython3",
   "version": "3.9.12"
  }
 },
 "nbformat": 4,
 "nbformat_minor": 5
}
