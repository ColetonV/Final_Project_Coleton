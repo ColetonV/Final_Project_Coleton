{
 "cells": [
  {
   "cell_type": "markdown",
   "id": "14a6d2a7",
   "metadata": {},
   "source": [
    "## MLP Final Project\n",
    "\n",
    "Coleton Van Valkenburgh"
   ]
  },
  {
   "cell_type": "code",
   "execution_count": 1,
   "id": "e7c9d22a",
   "metadata": {},
   "outputs": [],
   "source": [
    "import numpy as np  \n",
    "import matplotlib.pyplot as plt\n",
    "from sklearn.model_selection import train_test_split\n",
    "import tensorflow as tf\n",
    "from tensorflow import keras\n",
    "from sklearn.metrics import classification_report\n",
    "%matplotlib inline\n",
    "plt.style.use('bmh')"
   ]
  },
  {
   "cell_type": "code",
   "execution_count": 2,
   "id": "68f65b0e",
   "metadata": {},
   "outputs": [
    {
     "data": {
      "text/plain": [
       "[PhysicalDevice(name='/physical_device:GPU:0', device_type='GPU')]"
      ]
     },
     "execution_count": 2,
     "metadata": {},
     "output_type": "execute_result"
    }
   ],
   "source": [
    "tf.config.list_physical_devices('GPU')"
   ]
  },
  {
   "cell_type": "code",
   "execution_count": 3,
   "id": "4e6216af",
   "metadata": {},
   "outputs": [
    {
     "name": "stdout",
     "output_type": "stream",
     "text": [
      "Using GPU\n"
     ]
    }
   ],
   "source": [
    "VRAM_ALLOC = 70_000# in MB, up to 80_000 if you are using the A100 GPU\n",
    "\n",
    "if tf.config.list_physical_devices('GPU'):\n",
    "    \n",
    "    for GPU in tf.config.list_physical_devices('GPU'):\n",
    "        print('Using GPU')\n",
    "        tf.config.experimental.set_virtual_device_configuration(GPU,[tf.config.experimental.VirtualDeviceConfiguration(memory_limit=VRAM_ALLOC)])"
   ]
  },
  {
   "cell_type": "code",
   "execution_count": 4,
   "id": "f2d9487c",
   "metadata": {},
   "outputs": [
    {
     "data": {
      "text/plain": [
       "((270000, 6063), (6063,))"
      ]
     },
     "execution_count": 4,
     "metadata": {},
     "output_type": "execute_result"
    }
   ],
   "source": [
    "# Load Training Data\n",
    "X = np.load('data_train_corrected_final.npy')\n",
    "t = np.load('labels_train_corrected_final.npy')\n",
    "X.shape,t.shape"
   ]
  },
  {
   "cell_type": "code",
   "execution_count": 5,
   "id": "f67903fb",
   "metadata": {},
   "outputs": [],
   "source": [
    "labels_names = ['Stop','Yield','Red Light','Green Light','Roundabout','Right Turn Only',\n",
    "                'Do Not Enter','Crosswalk','Handicap Parking','No Parking']"
   ]
  },
  {
   "cell_type": "code",
   "execution_count": 6,
   "id": "fe3680d3",
   "metadata": {},
   "outputs": [
    {
     "data": {
      "text/plain": [
       "((5401, 270000), (601, 270000), (61, 270000), (5401,), (601,), (61,))"
      ]
     },
     "execution_count": 6,
     "metadata": {},
     "output_type": "execute_result"
    }
   ],
   "source": [
    "#Randomly partition the data into training (10%) and test sets (90%)\n",
    "X_training, X_test, t_training, t_test = train_test_split(X.T, t, shuffle=True, test_size=0.01)\n",
    "\n",
    "X_train, X_val, t_train, t_val = train_test_split(X_training, t_training, shuffle=True, test_size=0.1)\n",
    "\n",
    "X_train.shape, X_val.shape, X_test.shape, t_train.shape, t_val.shape, t_test.shape"
   ]
  },
  {
   "cell_type": "code",
   "execution_count": 7,
   "id": "ace90ad5",
   "metadata": {},
   "outputs": [
    {
     "name": "stderr",
     "output_type": "stream",
     "text": [
      "2022-07-28 09:04:25.035451: I tensorflow/core/platform/cpu_feature_guard.cc:142] This TensorFlow binary is optimized with oneAPI Deep Neural Network Library (oneDNN) to use the following CPU instructions in performance-critical operations:  SSE4.1 SSE4.2 AVX AVX2 FMA\n",
      "To enable them in other operations, rebuild TensorFlow with the appropriate compiler flags.\n",
      "2022-07-28 09:04:26.247912: I tensorflow/core/common_runtime/gpu/gpu_device.cc:1510] Created device /job:localhost/replica:0/task:0/device:GPU:0 with 70000 MB memory:  -> device: 0, name: NVIDIA A100-SXM4-80GB, pci bus id: 0000:47:00.0, compute capability: 8.0\n"
     ]
    },
    {
     "data": {
      "text/plain": [
       "(TensorShape([5401, 300, 300, 3]),\n",
       " TensorShape([601, 300, 300, 3]),\n",
       " TensorShape([61, 300, 300, 3]))"
      ]
     },
     "execution_count": 7,
     "metadata": {},
     "output_type": "execute_result"
    }
   ],
   "source": [
    "# Converts the image array back into the size (N, H, W, D)\n",
    "X_train = tf.constant(X_train.reshape((X_train.shape[0],300,300,3))) #Returns the images to their origial RGB configurations\n",
    "\n",
    "X_val = tf.constant(X_val.reshape((X_val.shape[0],300,300,3))) #Returns the images to their origial RGB configurations\n",
    "\n",
    "X_test = tf.constant(X_test.reshape((X_test.shape[0],300,300,3))) #Returns the images to their origial RGB configurations\n",
    "\n",
    "X_train.shape, X_val.shape, X_test.shape"
   ]
  },
  {
   "cell_type": "code",
   "execution_count": 8,
   "id": "c9855230",
   "metadata": {},
   "outputs": [],
   "source": [
    "# Hyperparameters\n",
    "lr = 0.001\n",
    "num_of_epochs = 500 #Number of times will loop through the data\n",
    "batch_size = 32 #Determines how the dataset is divided"
   ]
  },
  {
   "cell_type": "code",
   "execution_count": 9,
   "id": "53f79ddd-f910-4818-aefe-851a296c2b67",
   "metadata": {},
   "outputs": [],
   "source": [
    "IMG_SIZE = 150 # will rescale and normalize the images to (150,150,3) with pixcel ranges from (0-1) floats\n",
    "\n",
    "resize_and_rescale = tf.keras.Sequential([\n",
    "    tf.keras.layers.Resizing(IMG_SIZE, IMG_SIZE),\n",
    "    tf.keras.layers.Rescaling(1/255.0)\n",
    "])"
   ]
  },
  {
   "cell_type": "code",
   "execution_count": 10,
   "id": "fec3526a",
   "metadata": {},
   "outputs": [],
   "source": [
    "# CNN Model\n",
    "\n",
    "model = tf.keras.Sequential([\n",
    "    tf.keras.layers.InputLayer(input_shape=[300,300,3]),\n",
    "    resize_and_rescale,\n",
    "#    keras.layers.Conv2D(32, 7, activation='relu', padding='same', input_shape=[300,300,3]),\n",
    "#    keras.layers.MaxPool2D(2),\n",
    "#    keras.layers.Conv2D(64, 3, activation='relu', padding='same'),\n",
    "#    keras.layers.Conv2D(64, 3, activation='relu', padding='same'),\n",
    "#    keras.layers.MaxPool2D(2),\n",
    "#    keras.layers.Flatten(),\n",
    "    #keras.layers.Resizing(150, 150),\n",
    "    keras.layers.Flatten(),\n",
    "    keras.layers.Dense(5000, activation='relu'),\n",
    "    keras.layers.BatchNormalization(),\n",
    "    keras.layers.Dense(1000, activation='relu'),\n",
    "    keras.layers.BatchNormalization(),\n",
    "    keras.layers.Dense(500, activation='relu'),\n",
    "    keras.layers.BatchNormalization(),\n",
    "    keras.layers.Dense(100, activation='relu'),\n",
    "    keras.layers.BatchNormalization(),\n",
    "    keras.layers.Dense(10, activation='softmax')\n",
    "])"
   ]
  },
  {
   "cell_type": "code",
   "execution_count": 11,
   "id": "eee3ffb0",
   "metadata": {},
   "outputs": [
    {
     "name": "stdout",
     "output_type": "stream",
     "text": [
      "Model: \"sequential_1\"\n",
      "_________________________________________________________________\n",
      "Layer (type)                 Output Shape              Param #   \n",
      "=================================================================\n",
      "sequential (Sequential)      (None, 150, 150, 3)       0         \n",
      "_________________________________________________________________\n",
      "flatten (Flatten)            (None, 67500)             0         \n",
      "_________________________________________________________________\n",
      "dense (Dense)                (None, 5000)              337505000 \n",
      "_________________________________________________________________\n",
      "batch_normalization (BatchNo (None, 5000)              20000     \n",
      "_________________________________________________________________\n",
      "dense_1 (Dense)              (None, 1000)              5001000   \n",
      "_________________________________________________________________\n",
      "batch_normalization_1 (Batch (None, 1000)              4000      \n",
      "_________________________________________________________________\n",
      "dense_2 (Dense)              (None, 500)               500500    \n",
      "_________________________________________________________________\n",
      "batch_normalization_2 (Batch (None, 500)               2000      \n",
      "_________________________________________________________________\n",
      "dense_3 (Dense)              (None, 100)               50100     \n",
      "_________________________________________________________________\n",
      "batch_normalization_3 (Batch (None, 100)               400       \n",
      "_________________________________________________________________\n",
      "dense_4 (Dense)              (None, 10)                1010      \n",
      "=================================================================\n",
      "Total params: 343,084,010\n",
      "Trainable params: 343,070,810\n",
      "Non-trainable params: 13,200\n",
      "_________________________________________________________________\n"
     ]
    }
   ],
   "source": [
    "model.build(input_shape = ()) # `input_shape` is the shape of the input data\n",
    "                         # e.g. input_shape = (None, 32, 32, 3)\n",
    "model.summary()"
   ]
  },
  {
   "cell_type": "code",
   "execution_count": 12,
   "id": "e8b5f6f6",
   "metadata": {},
   "outputs": [],
   "source": [
    "model.compile(loss='sparse_categorical_crossentropy',\n",
    "             optimizer=keras.optimizers.Nadam(learning_rate=lr),\n",
    "             metrics=['accuracy'])"
   ]
  },
  {
   "cell_type": "code",
   "execution_count": 13,
   "id": "aa23ba87",
   "metadata": {},
   "outputs": [
    {
     "name": "stderr",
     "output_type": "stream",
     "text": [
      "2022-07-28 09:04:30.158665: I tensorflow/compiler/mlir/mlir_graph_optimization_pass.cc:185] None of the MLIR Optimization Passes are enabled (registered 2)\n"
     ]
    },
    {
     "name": "stdout",
     "output_type": "stream",
     "text": [
      "Epoch 1/500\n",
      "  3/169 [..............................] - ETA: 7s - loss: 2.7779 - accuracy: 0.2396  "
     ]
    },
    {
     "name": "stderr",
     "output_type": "stream",
     "text": [
      "2022-07-28 09:04:32.357941: I tensorflow/stream_executor/cuda/cuda_blas.cc:1760] TensorFloat-32 will be used for the matrix multiplication. This will only be logged once.\n"
     ]
    },
    {
     "name": "stdout",
     "output_type": "stream",
     "text": [
      "169/169 [==============================] - 10s 43ms/step - loss: 1.2587 - accuracy: 0.5825 - val_loss: 1.1882 - val_accuracy: 0.5923\n"
     ]
    },
    {
     "name": "stderr",
     "output_type": "stream",
     "text": [
      "2022-07-28 09:04:40.297229: W tensorflow/python/util/util.cc:348] Sets are not currently considered sequences, but this may change in the future, so consider avoiding using them.\n"
     ]
    },
    {
     "name": "stdout",
     "output_type": "stream",
     "text": [
      "INFO:tensorflow:Assets written to: CNN_checkpoint/assets\n",
      "Epoch 2/500\n",
      "169/169 [==============================] - 7s 42ms/step - loss: 0.8701 - accuracy: 0.7091 - val_loss: 1.5370 - val_accuracy: 0.5491\n",
      "Epoch 3/500\n",
      "169/169 [==============================] - 7s 42ms/step - loss: 0.7888 - accuracy: 0.7315 - val_loss: 1.2233 - val_accuracy: 0.6040\n",
      "Epoch 4/500\n",
      "169/169 [==============================] - 7s 43ms/step - loss: 0.7234 - accuracy: 0.7597 - val_loss: 1.1404 - val_accuracy: 0.6456\n",
      "INFO:tensorflow:Assets written to: CNN_checkpoint/assets\n",
      "Epoch 5/500\n",
      "169/169 [==============================] - 7s 44ms/step - loss: 0.6668 - accuracy: 0.7758 - val_loss: 2.2178 - val_accuracy: 0.4992\n",
      "Epoch 6/500\n",
      "169/169 [==============================] - 7s 44ms/step - loss: 0.6059 - accuracy: 0.7932 - val_loss: 1.5840 - val_accuracy: 0.5657\n",
      "Epoch 7/500\n",
      "169/169 [==============================] - 7s 44ms/step - loss: 0.5720 - accuracy: 0.8117 - val_loss: 1.5454 - val_accuracy: 0.5657\n",
      "Epoch 8/500\n",
      "169/169 [==============================] - 7s 44ms/step - loss: 0.5328 - accuracy: 0.8254 - val_loss: 1.1156 - val_accuracy: 0.6905\n",
      "INFO:tensorflow:Assets written to: CNN_checkpoint/assets\n",
      "Epoch 9/500\n",
      "169/169 [==============================] - 7s 44ms/step - loss: 0.4855 - accuracy: 0.8354 - val_loss: 2.1544 - val_accuracy: 0.4809\n",
      "Epoch 10/500\n",
      "169/169 [==============================] - 7s 44ms/step - loss: 0.4739 - accuracy: 0.8410 - val_loss: 1.1996 - val_accuracy: 0.7205\n",
      "Epoch 11/500\n",
      "169/169 [==============================] - 7s 43ms/step - loss: 0.4471 - accuracy: 0.8476 - val_loss: 1.7085 - val_accuracy: 0.5507\n",
      "Epoch 12/500\n",
      "169/169 [==============================] - 7s 43ms/step - loss: 0.4052 - accuracy: 0.8639 - val_loss: 1.8050 - val_accuracy: 0.5707\n",
      "Epoch 13/500\n",
      "169/169 [==============================] - 7s 43ms/step - loss: 0.3635 - accuracy: 0.8765 - val_loss: 2.8336 - val_accuracy: 0.4709\n",
      "Epoch 14/500\n",
      "169/169 [==============================] - 7s 43ms/step - loss: 0.3636 - accuracy: 0.8765 - val_loss: 1.4869 - val_accuracy: 0.6373\n",
      "Epoch 15/500\n",
      "169/169 [==============================] - 7s 43ms/step - loss: 0.3180 - accuracy: 0.8913 - val_loss: 1.5542 - val_accuracy: 0.6290\n",
      "Epoch 16/500\n",
      "169/169 [==============================] - 7s 43ms/step - loss: 0.2710 - accuracy: 0.9058 - val_loss: 1.7628 - val_accuracy: 0.6007\n",
      "Epoch 17/500\n",
      "169/169 [==============================] - 7s 43ms/step - loss: 0.2242 - accuracy: 0.9269 - val_loss: 1.6297 - val_accuracy: 0.6872\n",
      "Epoch 18/500\n",
      "169/169 [==============================] - 7s 43ms/step - loss: 0.2200 - accuracy: 0.9254 - val_loss: 1.5242 - val_accuracy: 0.6889\n"
     ]
    }
   ],
   "source": [
    "history = model.fit(X_train, t_train, epochs=num_of_epochs, batch_size=batch_size,\n",
    "         validation_data=(X_val, t_val),\n",
    "         callbacks=[keras.callbacks.EarlyStopping(patience=10), #Will stop the code early if no progress has been made on the validation set\n",
    "                   keras.callbacks.ModelCheckpoint('CNN_checkpoint', save_best_only=True) #Will save model with best validation set\n",
    "                   ])"
   ]
  },
  {
   "cell_type": "code",
   "execution_count": 14,
   "id": "c824c448-d81a-44bb-8bf0-2dbac7b927fc",
   "metadata": {},
   "outputs": [
    {
     "data": {
      "text/plain": [
       "dict_keys(['loss', 'accuracy', 'val_loss', 'val_accuracy'])"
      ]
     },
     "execution_count": 14,
     "metadata": {},
     "output_type": "execute_result"
    }
   ],
   "source": [
    "history.history.keys()"
   ]
  },
  {
   "cell_type": "code",
   "execution_count": 15,
   "id": "4f7d36e8-3ed1-4233-8f39-03dbbbfde8e3",
   "metadata": {},
   "outputs": [
    {
     "data": {
      "image/png": "[encoded data removed]",
      "text/plain": [
       "<Figure size 576x360 with 1 Axes>"
      ]
     },
     "metadata": {
      "needs_background": "light"
     },
     "output_type": "display_data"
    }
   ],
   "source": [
    "#Loss Function and Accuracy Plots\n",
    "key_names = list(history.history.keys())\n",
    "colors = ['-r','--b','-og','-.k']\n",
    "\n",
    "plt.figure(figsize=(8,5))\n",
    "for i in range(len(key_names)):\n",
    "    plt.plot(history.history[key_names[i]], colors[i], label=key_names[i])\n",
    "plt.legend(fontsize=15,ncol=2)\n",
    "plt.title('Learning Curves', size=15);"
   ]
  },
  {
   "cell_type": "code",
   "execution_count": 16,
   "id": "ed6e27f7",
   "metadata": {},
   "outputs": [],
   "source": [
    "model = keras.models.load_model('CNN_trial_1')"
   ]
  },
  {
   "cell_type": "code",
   "execution_count": 17,
   "id": "caee4fdf",
   "metadata": {},
   "outputs": [],
   "source": [
    "y_train = np.argmax(model.predict(X_train), axis=1)\n",
    "y_test = np.argmax(model.predict(X_test), axis=1)"
   ]
  },
  {
   "cell_type": "code",
   "execution_count": 18,
   "id": "f08640c2",
   "metadata": {},
   "outputs": [
    {
     "name": "stdout",
     "output_type": "stream",
     "text": [
      "                  precision    recall  f1-score   support\n",
      "\n",
      "            Stop       0.00      0.00      0.00       538\n",
      "           Yield       0.00      0.00      0.00       553\n",
      "       Red Light       0.00      0.00      0.00       516\n",
      "     Green Light       0.00      0.00      0.00       548\n",
      "      Roundabout       0.00      0.00      0.00       545\n",
      " Right Turn Only       0.00      0.00      0.00       512\n",
      "    Do Not Enter       0.10      1.00      0.18       532\n",
      "       Crosswalk       0.00      0.00      0.00       553\n",
      "Handicap Parking       0.00      0.00      0.00       556\n",
      "      No Parking       0.00      0.00      0.00       548\n",
      "\n",
      "        accuracy                           0.10      5401\n",
      "       macro avg       0.01      0.10      0.02      5401\n",
      "    weighted avg       0.01      0.10      0.02      5401\n",
      "\n",
      "                  precision    recall  f1-score   support\n",
      "\n",
      "            Stop       0.00      0.00      0.00        10\n",
      "           Yield       0.00      0.00      0.00         1\n",
      "       Red Light       0.00      0.00      0.00        12\n",
      "     Green Light       0.00      0.00      0.00         3\n",
      "      Roundabout       0.00      0.00      0.00         2\n",
      " Right Turn Only       0.00      0.00      0.00         6\n",
      "    Do Not Enter       0.15      1.00      0.26         9\n",
      "       Crosswalk       0.00      0.00      0.00         6\n",
      "Handicap Parking       0.00      0.00      0.00         5\n",
      "      No Parking       0.00      0.00      0.00         7\n",
      "\n",
      "        accuracy                           0.15        61\n",
      "       macro avg       0.01      0.10      0.03        61\n",
      "    weighted avg       0.02      0.15      0.04        61\n",
      "\n"
     ]
    },
    {
     "name": "stderr",
     "output_type": "stream",
     "text": [
      "/apps/tensorflow/2.6.0/lib/python3.9/site-packages/sklearn/metrics/_classification.py:1308: UndefinedMetricWarning: Precision and F-score are ill-defined and being set to 0.0 in labels with no predicted samples. Use `zero_division` parameter to control this behavior.\n",
      "  _warn_prf(average, modifier, msg_start, len(result))\n",
      "/apps/tensorflow/2.6.0/lib/python3.9/site-packages/sklearn/metrics/_classification.py:1308: UndefinedMetricWarning: Precision and F-score are ill-defined and being set to 0.0 in labels with no predicted samples. Use `zero_division` parameter to control this behavior.\n",
      "  _warn_prf(average, modifier, msg_start, len(result))\n",
      "/apps/tensorflow/2.6.0/lib/python3.9/site-packages/sklearn/metrics/_classification.py:1308: UndefinedMetricWarning: Precision and F-score are ill-defined and being set to 0.0 in labels with no predicted samples. Use `zero_division` parameter to control this behavior.\n",
      "  _warn_prf(average, modifier, msg_start, len(result))\n",
      "/apps/tensorflow/2.6.0/lib/python3.9/site-packages/sklearn/metrics/_classification.py:1308: UndefinedMetricWarning: Precision and F-score are ill-defined and being set to 0.0 in labels with no predicted samples. Use `zero_division` parameter to control this behavior.\n",
      "  _warn_prf(average, modifier, msg_start, len(result))\n",
      "/apps/tensorflow/2.6.0/lib/python3.9/site-packages/sklearn/metrics/_classification.py:1308: UndefinedMetricWarning: Precision and F-score are ill-defined and being set to 0.0 in labels with no predicted samples. Use `zero_division` parameter to control this behavior.\n",
      "  _warn_prf(average, modifier, msg_start, len(result))\n",
      "/apps/tensorflow/2.6.0/lib/python3.9/site-packages/sklearn/metrics/_classification.py:1308: UndefinedMetricWarning: Precision and F-score are ill-defined and being set to 0.0 in labels with no predicted samples. Use `zero_division` parameter to control this behavior.\n",
      "  _warn_prf(average, modifier, msg_start, len(result))\n"
     ]
    }
   ],
   "source": [
    "print(classification_report(t_train, y_train, target_names=labels_names))\n",
    "\n",
    "print(classification_report(t_test, y_test, target_names=labels_names))"
   ]
  },
  {
   "cell_type": "code",
   "execution_count": 19,
   "id": "2f4d1e6d",
   "metadata": {},
   "outputs": [],
   "source": [
    "#Saving the Model\n",
    "#model.save('my_keras_model.h5')\n",
    "#model = keras.models.load_model('my_keras_model.h5')"
   ]
  },
  {
   "cell_type": "code",
   "execution_count": null,
   "id": "e630a78b",
   "metadata": {},
   "outputs": [],
   "source": []
  },
  {
   "cell_type": "code",
   "execution_count": null,
   "id": "0397fad2",
   "metadata": {},
   "outputs": [],
   "source": []
  },
  {
   "cell_type": "code",
   "execution_count": null,
   "id": "197a7278",
   "metadata": {},
   "outputs": [],
   "source": []
  }
 ],
 "metadata": {
  "kernelspec": {
   "display_name": "Tensorflow-2.6.0",
   "language": "python",
   "name": "tensorflow-2.6.0"
  },
  "language_info": {
   "codemirror_mode": {
    "name": "ipython",
    "version": 3
   },
   "file_extension": ".py",
   "mimetype": "text/x-python",
   "name": "python",
   "nbconvert_exporter": "python",
   "pygments_lexer": "ipython3",
   "version": "3.9.7"
  }
 },
 "nbformat": 4,
 "nbformat_minor": 5
}
